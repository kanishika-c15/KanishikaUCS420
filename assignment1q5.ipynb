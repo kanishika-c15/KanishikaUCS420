{
  "nbformat": 4,
  "nbformat_minor": 0,
  "metadata": {
    "colab": {
      "provenance": [],
      "authorship_tag": "ABX9TyOJVyp/ZiOXLYHYA3FxzVGe",
      "include_colab_link": true
    },
    "kernelspec": {
      "name": "python3",
      "display_name": "Python 3"
    },
    "language_info": {
      "name": "python"
    }
  },
  "cells": [
    {
      "cell_type": "markdown",
      "metadata": {
        "id": "view-in-github",
        "colab_type": "text"
      },
      "source": [
        "<a href=\"https://colab.research.google.com/github/kanishika-c15/KanishikaUCS420/blob/main/assignment1q5.ipynb\" target=\"_parent\"><img src=\"https://colab.research.google.com/assets/colab-badge.svg\" alt=\"Open In Colab\"/></a>"
      ]
    },
    {
      "cell_type": "code",
      "execution_count": null,
      "metadata": {
        "colab": {
          "base_uri": "https://localhost:8080/"
        },
        "id": "j8P4Ny8DXipw",
        "outputId": "329d5107-55bb-49e3-9fa8-c74911faa1c2"
      },
      "outputs": [
        {
          "output_type": "stream",
          "name": "stdout",
          "text": [
            "que 5\n"
          ]
        }
      ],
      "source": [
        "print(\"que 5\")\n",
        "a=int(input('Enter a number'))\n",
        "b=int(input('Enter a number'))\n",
        "c=int(input('Enter a number'))\n",
        "print(max(list((a,b,c))))\n",
        "\n",
        "\n",
        "\n",
        "\n",
        "\n",
        "print(\"part 2\")\n",
        "n=int(input('Enter a number'))\n",
        "sum=0\n",
        "for i in range(1,n+1):\n",
        "  if i%7==0 and i%9==0:\n",
        "    sum+=i\n",
        "print(sum)\n",
        "\n",
        "\n",
        "\n",
        "\n",
        "\n",
        "\n",
        "\n",
        "\n",
        "print(\"part 3\")\n",
        "\n",
        "n=int(input('Enter a number'))\n",
        "sum=0\n",
        "for i in range(2,n+1):\n",
        "  flag=True\n",
        "  for j in range(2,i):\n",
        "    if i%j==0:\n",
        "      flag=False\n",
        "  if flag:\n",
        "    sum+=i\n",
        "print('Sum of primes=',sum)\n",
        "\n",
        "\n"
      ]
    }
  ]
}