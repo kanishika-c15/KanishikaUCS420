{
  "nbformat": 4,
  "nbformat_minor": 0,
  "metadata": {
    "colab": {
      "provenance": [],
      "authorship_tag": "ABX9TyPYvGtbj1HacVMSI6zsagO9",
      "include_colab_link": true
    },
    "kernelspec": {
      "name": "python3",
      "display_name": "Python 3"
    },
    "language_info": {
      "name": "python"
    }
  },
  "cells": [
    {
      "cell_type": "markdown",
      "metadata": {
        "id": "view-in-github",
        "colab_type": "text"
      },
      "source": [
        "<a href=\"https://colab.research.google.com/github/kanishika-c15/KanishikaUCS420/blob/main/assignment1q2.ipynb\" target=\"_parent\"><img src=\"https://colab.research.google.com/assets/colab-badge.svg\" alt=\"Open In Colab\"/></a>"
      ]
    },
    {
      "cell_type": "code",
      "execution_count": 2,
      "metadata": {
        "colab": {
          "base_uri": "https://localhost:8080/"
        },
        "id": "j8P4Ny8DXipw",
        "outputId": "b495c181-a809-4ac9-9a91-dbf5cfe85982"
      },
      "outputs": [
        {
          "output_type": "stream",
          "name": "stdout",
          "text": [
            "que 2\n",
            "21\n",
            "hello world\n"
          ]
        }
      ],
      "source": [
        "print(\"que 2\")\n",
        "a=b=c=7\n",
        "print(a+b+c)\n",
        "\n",
        "print('hell'+'o','world')"
      ]
    }
  ]
}