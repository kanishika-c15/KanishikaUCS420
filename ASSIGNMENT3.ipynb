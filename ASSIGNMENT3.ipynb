{
  "nbformat": 4,
  "nbformat_minor": 0,
  "metadata": {
    "colab": {
      "provenance": [],
      "authorship_tag": "ABX9TyMwCN1AHWiKKjeMvKSW8duX",
      "include_colab_link": true
    },
    "kernelspec": {
      "name": "python3",
      "display_name": "Python 3"
    },
    "language_info": {
      "name": "python"
    }
  },
  "cells": [
    {
      "cell_type": "markdown",
      "metadata": {
        "id": "view-in-github",
        "colab_type": "text"
      },
      "source": [
        "<a href=\"https://colab.research.google.com/github/kanishika-c15/KanishikaUCS420/blob/main/ASSIGNMENT3.ipynb\" target=\"_parent\"><img src=\"https://colab.research.google.com/assets/colab-badge.svg\" alt=\"Open In Colab\"/></a>"
      ]
    },
    {
      "cell_type": "code",
      "execution_count": 1,
      "metadata": {
        "colab": {
          "base_uri": "https://localhost:8080/"
        },
        "id": "zS0i2tCKyaLh",
        "outputId": "7458e838-d64b-46bd-c2f8-d00c2d5ca077"
      },
      "outputs": [
        {
          "output_type": "stream",
          "name": "stdout",
          "text": [
            "   Tid Refund Martial Status Taxable Income Cheat\n",
            "0    1    Yes         Single           125K    No\n",
            "4    5     No       Divorced            95K   Yes\n",
            "7    8     No         Single            85K   Yes\n",
            "8    9     No        Married            75K    No\n",
            "   Tid Refund Martial Status Taxable Income Cheat\n",
            "3    4    Yes        Married           120K    No\n",
            "4    5     No       Divorced            95K   Yes\n",
            "5    6     No        Married            60K    No\n",
            "6    7    Yes       Divorced           220K    No\n",
            "7    8     No         Single            85K   Yes\n",
            "  Martial Status Taxable Income Cheat\n",
            "4       Divorced            95K   Yes\n",
            "5        Married            60K    No\n",
            "6       Divorced           220K    No\n",
            "7         Single            85K   Yes\n",
            "8        Married            75K    No\n",
            "  Refund Martial Status Taxable Income\n",
            "0    Yes         Single           125K\n",
            "1     No        Married           100K\n",
            "2     No         Single            70K\n",
            "3    Yes        Married           120K\n",
            "4     No       Divorced            95K\n",
            "5     No        Married            60K\n",
            "6    Yes       Divorced           220K\n",
            "7     No         Single            85K\n",
            "8     No        Married            75K\n",
            "9     No         Single            90K\n"
          ]
        }
      ],
      "source": [
        "import pandas as pd;\n",
        "data={\n",
        "    \"Tid\":[1,2,3,4,5,6,7,8,9,10],\n",
        "    \"Refund\":[\"Yes\", \"No\", \"No\", \"Yes\", \"No\", \"No\", \"Yes\", \"No\", \"No\", \"No\"],\n",
        "    \"Martial Status\":[\"Single\",\"Married\",\"Single\", \"Married\", \"Divorced\", \"Married\", \"Divorced\", \"Single\", \"Married\", \"Single\"],\n",
        "    \"Taxable Income\": [\"125K\", \"100K\", \"70K\", \"120K\", \"95K\", \"60K\", \"220K\", \"85K\", \"75K\", \"90K\"],\n",
        "    \"Cheat\": [\"No\", \"No\", \"No\", \"No\", \"Yes\", \"No\", \"No\", \"Yes\", \"No\", \"Yes\"]\n",
        "}\n",
        "df=pd.DataFrame(data);\n",
        "selec_rows=df.iloc[[0,4,7,8]];\n",
        "print(selec_rows);\n",
        "\n",
        "from3to7=df.iloc[3:8]\n",
        "print(from3to7)\n",
        "\n",
        "# Select row from index 4 to 8, and column 2 to 4.\n",
        "selection=df.iloc[4:9,2:5]\n",
        "print(selection)\n",
        "# Select all rows with column index 1 to 3 (include index 3 during selection)\n",
        "sl=df.iloc[:,1:4]\n",
        "print(sl)\n"
      ]
    }
  ]
}