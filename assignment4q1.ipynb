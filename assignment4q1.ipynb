{
  "nbformat": 4,
  "nbformat_minor": 0,
  "metadata": {
    "colab": {
      "provenance": [],
      "authorship_tag": "ABX9TyO1UhOdeURHkpxrL3nyHSou",
      "include_colab_link": true
    },
    "kernelspec": {
      "name": "python3",
      "display_name": "Python 3"
    },
    "language_info": {
      "name": "python"
    }
  },
  "cells": [
    {
      "cell_type": "markdown",
      "metadata": {
        "id": "view-in-github",
        "colab_type": "text"
      },
      "source": [
        "<a href=\"https://colab.research.google.com/github/kanishika-c15/KanishikaUCS420/blob/main/assignment4q1.ipynb\" target=\"_parent\"><img src=\"https://colab.research.google.com/assets/colab-badge.svg\" alt=\"Open In Colab\"/></a>"
      ]
    },
    {
      "cell_type": "code",
      "execution_count": null,
      "metadata": {
        "id": "y4SzXfXEnnUt"
      },
      "outputs": [],
      "source": []
    },
    {
      "cell_type": "markdown",
      "source": [
        "Q1."
      ],
      "metadata": {
        "id": "1jj6gFJ-nsdV"
      }
    },
    {
      "cell_type": "code",
      "source": [
        "\n",
        "import numpy as np\n",
        "\n",
        "arr = np.array([10, 20, 30, 40, 50])\n",
        "\n",
        "add_result = arr + 2\n",
        "multiply_result = arr * 3\n",
        "divide_result = arr / 2\n",
        "\n",
        "print(\"Original Array:\", arr)\n",
        "print(\"After Adding 2:\", add_result)\n",
        "print(\"After Multiplying by 3:\", multiply_result)\n",
        "print(\"After Dividing by 2:\", divide_result)"
      ],
      "metadata": {
        "colab": {
          "base_uri": "https://localhost:8080/"
        },
        "id": "v_3-KXOUnvV3",
        "outputId": "b095389e-37d2-4f5c-8baa-eda144768e28"
      },
      "execution_count": 2,
      "outputs": [
        {
          "output_type": "stream",
          "name": "stdout",
          "text": [
            "Original Array: [10 20 30 40 50]\n",
            "After Adding 2: [12 22 32 42 52]\n",
            "After Multiplying by 3: [ 30  60  90 120 150]\n",
            "After Dividing by 2: [ 5. 10. 15. 20. 25.]\n"
          ]
        }
      ]
    }
  ]
}