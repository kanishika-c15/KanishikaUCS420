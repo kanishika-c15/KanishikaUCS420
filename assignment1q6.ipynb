{
  "nbformat": 4,
  "nbformat_minor": 0,
  "metadata": {
    "colab": {
      "provenance": [],
      "authorship_tag": "ABX9TyPFjw48w0h+R6mS1M3gCX0Q",
      "include_colab_link": true
    },
    "kernelspec": {
      "name": "python3",
      "display_name": "Python 3"
    },
    "language_info": {
      "name": "python"
    }
  },
  "cells": [
    {
      "cell_type": "markdown",
      "metadata": {
        "id": "view-in-github",
        "colab_type": "text"
      },
      "source": [
        "<a href=\"https://colab.research.google.com/github/kanishika-c15/KanishikaUCS420/blob/main/assignment1q6.ipynb\" target=\"_parent\"><img src=\"https://colab.research.google.com/assets/colab-badge.svg\" alt=\"Open In Colab\"/></a>"
      ]
    },
    {
      "cell_type": "code",
      "execution_count": null,
      "metadata": {
        "colab": {
          "base_uri": "https://localhost:8080/"
        },
        "id": "j8P4Ny8DXipw",
        "outputId": "7f1e5234-695c-4132-bbb0-eceb1b71b7b5"
      },
      "outputs": [
        {
          "output_type": "stream",
          "name": "stdout",
          "text": [
            "que 6\n",
            "Enter a number4\n",
            "Sum of odd numbers 4\n",
            "que 6 part 2\n",
            "Enter a number3\n",
            "Sum of primes= 5\n"
          ]
        }
      ],
      "source": [
        "\n",
        "print(\"que 6\")\n",
        "def addOdd(n):\n",
        "  sum=0\n",
        "  for i in range(1,n+1):\n",
        "    if i%2!=0:\n",
        "      sum+=i\n",
        "  return sum\n",
        "n=int(input('Enter a number'))\n",
        "print('Sum of odd numbers',addOdd(n))\n",
        "\n",
        "\n",
        "\n",
        "\n",
        "\n",
        "print(\"que 6 part 2\")\n",
        "def addPrime(n):\n",
        "  sum=0\n",
        "  for i in range(2,n+1):\n",
        "    flag=True\n",
        "    for j in range(2,i):\n",
        "     if i%j==0:\n",
        "      flag=False\n",
        "    if flag:\n",
        "      sum+=i\n",
        "  return sum\n",
        "n=int(input('Enter a number'))\n",
        "print('Sum of primes=',addPrime(n))\n"
      ]
    }
  ]
}