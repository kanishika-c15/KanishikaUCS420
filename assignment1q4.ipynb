{
  "nbformat": 4,
  "nbformat_minor": 0,
  "metadata": {
    "colab": {
      "provenance": [],
      "authorship_tag": "ABX9TyMgLcCbmYqinreVmvEuCPKs",
      "include_colab_link": true
    },
    "kernelspec": {
      "name": "python3",
      "display_name": "Python 3"
    },
    "language_info": {
      "name": "python"
    }
  },
  "cells": [
    {
      "cell_type": "markdown",
      "metadata": {
        "id": "view-in-github",
        "colab_type": "text"
      },
      "source": [
        "<a href=\"https://colab.research.google.com/github/kanishika-c15/KanishikaUCS420/blob/main/assignment1q4.ipynb\" target=\"_parent\"><img src=\"https://colab.research.google.com/assets/colab-badge.svg\" alt=\"Open In Colab\"/></a>"
      ]
    },
    {
      "cell_type": "code",
      "execution_count": null,
      "metadata": {
        "colab": {
          "base_uri": "https://localhost:8080/"
        },
        "id": "j8P4Ny8DXipw",
        "outputId": "0b06a82b-83dd-4073-fee2-20549778a454"
      },
      "outputs": [
        {
          "output_type": "stream",
          "name": "stdout",
          "text": [
            "que 4\n",
            "7 * 1 = 7\n",
            "7 * 2 = 14\n",
            "7 * 3 = 21\n",
            "7 * 4 = 28\n",
            "7 * 5 = 35\n",
            "7 * 6 = 42\n",
            "7 * 7 = 49\n",
            "7 * 8 = 56\n",
            "7 * 9 = 63\n",
            "7 * 10 = 70\n",
            "\n",
            "9 * 1 = 9\n",
            "9 * 2 = 18\n",
            "9 * 3 = 27\n",
            "9 * 4 = 36\n",
            "9 * 5 = 45\n",
            "9 * 6 = 54\n",
            "9 * 7 = 63\n",
            "9 * 8 = 72\n",
            "9 * 9 = 81\n",
            "9 * 10 = 90\n",
            "part 2\n",
            "Enter the number7\n",
            "7 * 1 = 7\n",
            "7 * 2 = 14\n",
            "7 * 3 = 21\n",
            "7 * 4 = 28\n",
            "7 * 5 = 35\n",
            "7 * 6 = 42\n",
            "7 * 7 = 49\n",
            "7 * 8 = 56\n",
            "7 * 9 = 63\n",
            "7 * 10 = 70\n",
            "part 3\n"
          ]
        }
      ],
      "source": [
        "print(\"que 4\")\n",
        "for i in range(1,11):\n",
        "  print('7 *',i,'=',7*i)\n",
        "print()\n",
        "for i in range(1,11):\n",
        "  print('9 *',i,'=',9*i)\n",
        "\n",
        "\n",
        "print(\"part 2\")\n",
        "n=input('Enter the number')\n",
        "n=int(n)\n",
        "# the input func gives string as output so we have to typecast it to int\n",
        "for i in range(1,11):\n",
        "  print(n,'*',i,'=',n*i)\n",
        "\n",
        "\n",
        "\n",
        "\n",
        "\n",
        "\n",
        "print(\"part 3\")\n",
        "n=input('Enter the number')\n",
        "n=int(n)\n",
        "res=0\n",
        "for i in range(1,n+1):\n",
        "  res+=i\n",
        "print('Sum =',res)\n",
        "\n"
      ]
    }
  ]
}