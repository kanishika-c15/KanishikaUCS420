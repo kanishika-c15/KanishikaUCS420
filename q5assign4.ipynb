{
  "nbformat": 4,
  "nbformat_minor": 0,
  "metadata": {
    "colab": {
      "provenance": [],
      "authorship_tag": "ABX9TyPh/QuLFBJlDWwovUWCh3Yo",
      "include_colab_link": true
    },
    "kernelspec": {
      "name": "python3",
      "display_name": "Python 3"
    },
    "language_info": {
      "name": "python"
    }
  },
  "cells": [
    {
      "cell_type": "markdown",
      "metadata": {
        "id": "view-in-github",
        "colab_type": "text"
      },
      "source": [
        "<a href=\"https://colab.research.google.com/github/kanishika-c15/KanishikaUCS420/blob/main/q5assign4.ipynb\" target=\"_parent\"><img src=\"https://colab.research.google.com/assets/colab-badge.svg\" alt=\"Open In Colab\"/></a>"
      ]
    },
    {
      "cell_type": "code",
      "execution_count": null,
      "metadata": {
        "id": "y4SzXfXEnnUt"
      },
      "outputs": [],
      "source": []
    },
    {
      "cell_type": "markdown",
      "source": [
        "Q1."
      ],
      "metadata": {
        "id": "1jj6gFJ-nsdV"
      }
    },
    {
      "cell_type": "code",
      "source": [
        "\n",
        "import numpy as np\n",
        "\n",
        "arr = np.array([10, 20, 30, 40, 50])\n",
        "\n",
        "add_result = arr + 2\n",
        "multiply_result = arr * 3\n",
        "divide_result = arr / 2\n",
        "\n",
        "print(\"Original Array:\", arr)\n",
        "print(\"After Adding 2:\", add_result)\n",
        "print(\"After Multiplying by 3:\", multiply_result)\n",
        "print(\"After Dividing by 2:\", divide_result)"
      ],
      "metadata": {
        "colab": {
          "base_uri": "https://localhost:8080/"
        },
        "id": "v_3-KXOUnvV3",
        "outputId": "b095389e-37d2-4f5c-8baa-eda144768e28"
      },
      "execution_count": 2,
      "outputs": [
        {
          "output_type": "stream",
          "name": "stdout",
          "text": [
            "Original Array: [10 20 30 40 50]\n",
            "After Adding 2: [12 22 32 42 52]\n",
            "After Multiplying by 3: [ 30  60  90 120 150]\n",
            "After Dividing by 2: [ 5. 10. 15. 20. 25.]\n"
          ]
        }
      ]
    },
    {
      "cell_type": "markdown",
      "source": [
        "Q2"
      ],
      "metadata": {
        "id": "QqmZ1WFX2Snz"
      }
    },
    {
      "cell_type": "code",
      "source": [
        "\n",
        "import numpy as np\n",
        "\n",
        "arr = np.array([1, 2, 3, 6, 4, 5])\n",
        "reversed_arr = arr[::-1]\n",
        "print(\"Reversed Array:\", reversed_arr)\n",
        "\n",
        "def most_frequent(arr):\n",
        "    unique, counts = np.unique(arr, return_counts=True)\n",
        "    max_count = np.max(counts)\n",
        "    most_frequent_value = unique[np.argmax(counts)]\n",
        "    indices = np.where(arr == most_frequent_value)[0]\n",
        "    return most_frequent_value, indices\n",
        "\n",
        "x = np.array([1, 2, 3, 4, 5, 1, 2, 1, 1, 1])\n",
        "y = np.array([1, 1, 1, 2, 3, 4, 2, 4, 3, 3])\n",
        "\n",
        "most_freq_x, indices_x = most_frequent(x)\n",
        "most_freq_y, indices_y = most_frequent(y)\n",
        "\n",
        "print(f\"Most Frequent in x: {most_freq_x}, Indices: {indices_x}\")\n",
        "print(f\"Most Frequent in y: {most_freq_y}, Indices: {indices_y}\")\n"
      ],
      "metadata": {
        "colab": {
          "base_uri": "https://localhost:8080/"
        },
        "id": "48xRvSoo2Ufb",
        "outputId": "9d1aeab8-d7aa-4726-e92a-9d3d7adec541"
      },
      "execution_count": 6,
      "outputs": [
        {
          "output_type": "stream",
          "name": "stdout",
          "text": [
            "Reversed Array: [5 4 6 3 2 1]\n",
            "Most Frequent in x: 1, Indices: [0 5 7 8 9]\n",
            "Most Frequent in y: 1, Indices: [0 1 2]\n"
          ]
        }
      ]
    },
    {
      "cell_type": "markdown",
      "source": [
        "q3"
      ],
      "metadata": {
        "id": "ArOetVrB47Y2"
      }
    },
    {
      "cell_type": "code",
      "source": [
        "import numpy as np\n",
        "\n",
        "arr = np.array([[10, 20, 30],\n",
        "                [40, 50, 60],\n",
        "                [70, 80, 90]])\n",
        "\n",
        "a = arr[0, 1]\n",
        "b = arr[2, 0]\n",
        "\n",
        "print(\"1st row, 2nd column:\", a)\n",
        "print(\"3rd row, 1st column:\", b)\n",
        "\n"
      ],
      "metadata": {
        "colab": {
          "base_uri": "https://localhost:8080/"
        },
        "id": "cPN8VjGs48lL",
        "outputId": "a92f4fc0-280e-42ff-8347-58016416cd22"
      },
      "execution_count": 7,
      "outputs": [
        {
          "output_type": "stream",
          "name": "stdout",
          "text": [
            "1st row, 2nd column: 20\n",
            "3rd row, 1st column: 70\n"
          ]
        }
      ]
    },
    {
      "cell_type": "markdown",
      "source": [
        "q4\n"
      ],
      "metadata": {
        "id": "NAEShVME5l3N"
      }
    },
    {
      "cell_type": "code",
      "source": [
        "import numpy as np\n",
        "\n",
        "MyName = np.linspace(10, 100, 25)\n",
        "\n",
        "print(\"Array:\", MyName)\n",
        "print(\"Dimensions:\", MyName.ndim)\n",
        "print(\"Shape:\", MyName.shape)\n",
        "print(\"Total Elements:\", MyName.size)\n",
        "print(\"Data Type:\", MyName.dtype)\n",
        "print(\"Total Bytes Consumed:\", MyName.nbytes)\n",
        "\n",
        "transposed_array = MyName.reshape(25, 1)\n",
        "print(\"Transposed using reshape():\\n\", transposed_array)\n",
        "\n",
        "T_transpose = MyName.T\n",
        "print(\"Transposed using T attribute:\\n\", T_transpose)\n",
        "\n",
        "# Checking if both methods give the same result\n",
        "print(\"Can we use T attribute for 1D array?\", np.array_equal(transposed_array, T_transpose))\n",
        "\n"
      ],
      "metadata": {
        "colab": {
          "base_uri": "https://localhost:8080/"
        },
        "id": "3Cle1IoA5n0L",
        "outputId": "ff0a21fc-e66f-482d-d280-0252fd46c54f"
      },
      "execution_count": 8,
      "outputs": [
        {
          "output_type": "stream",
          "name": "stdout",
          "text": [
            "Array: [ 10.    13.75  17.5   21.25  25.    28.75  32.5   36.25  40.    43.75\n",
            "  47.5   51.25  55.    58.75  62.5   66.25  70.    73.75  77.5   81.25\n",
            "  85.    88.75  92.5   96.25 100.  ]\n",
            "Dimensions: 1\n",
            "Shape: (25,)\n",
            "Total Elements: 25\n",
            "Data Type: float64\n",
            "Total Bytes Consumed: 200\n",
            "Transposed using reshape():\n",
            " [[ 10.  ]\n",
            " [ 13.75]\n",
            " [ 17.5 ]\n",
            " [ 21.25]\n",
            " [ 25.  ]\n",
            " [ 28.75]\n",
            " [ 32.5 ]\n",
            " [ 36.25]\n",
            " [ 40.  ]\n",
            " [ 43.75]\n",
            " [ 47.5 ]\n",
            " [ 51.25]\n",
            " [ 55.  ]\n",
            " [ 58.75]\n",
            " [ 62.5 ]\n",
            " [ 66.25]\n",
            " [ 70.  ]\n",
            " [ 73.75]\n",
            " [ 77.5 ]\n",
            " [ 81.25]\n",
            " [ 85.  ]\n",
            " [ 88.75]\n",
            " [ 92.5 ]\n",
            " [ 96.25]\n",
            " [100.  ]]\n",
            "Transposed using T attribute:\n",
            " [ 10.    13.75  17.5   21.25  25.    28.75  32.5   36.25  40.    43.75\n",
            "  47.5   51.25  55.    58.75  62.5   66.25  70.    73.75  77.5   81.25\n",
            "  85.    88.75  92.5   96.25 100.  ]\n",
            "Can we use T attribute for 1D array? False\n"
          ]
        }
      ]
    },
    {
      "cell_type": "markdown",
      "source": [
        "q5"
      ],
      "metadata": {
        "id": "_8w_ybTg6m7z"
      }
    },
    {
      "cell_type": "code",
      "source": [
        "import numpy as np\n",
        "\n",
        "ucs420_MyName = np.array([[10, 20, 30, 40],\n",
        "                          [50, 60, 70, 80],\n",
        "                          [90, 15, 20, 35]])\n",
        "\n",
        "mean_value = np.mean(ucs420_MyName)\n",
        "median_value = np.median(ucs420_MyName)\n",
        "max_value = np.max(ucs420_MyName)\n",
        "min_value = np.min(ucs420_MyName)\n",
        "unique_elements = np.unique(ucs420_MyName)\n",
        "\n",
        "reshaped_ucs420 = ucs420_MyName.reshape(4, 3)\n",
        "\n",
        "print(\"Original 2D Array:\\n\", ucs420_MyName)\n",
        "print(\"Mean:\", mean_value)\n",
        "print(\"Median:\", median_value)\n",
        "print(\"Max:\", max_value)\n",
        "print(\"Min:\", min_value)\n",
        "print(\"Unique Elements:\", unique_elements)\n",
        "print(\"Reshaped Array (4x3):\\n\", reshaped_ucs420)\n"
      ],
      "metadata": {
        "colab": {
          "base_uri": "https://localhost:8080/"
        },
        "id": "c9rkRfi-6n7D",
        "outputId": "4025f4d5-3594-4011-d79d-fea343a1dd1f"
      },
      "execution_count": 9,
      "outputs": [
        {
          "output_type": "stream",
          "name": "stdout",
          "text": [
            "Original 2D Array:\n",
            " [[10 20 30 40]\n",
            " [50 60 70 80]\n",
            " [90 15 20 35]]\n",
            "Mean: 43.333333333333336\n",
            "Median: 37.5\n",
            "Max: 90\n",
            "Min: 10\n",
            "Unique Elements: [10 15 20 30 35 40 50 60 70 80 90]\n",
            "Reshaped Array (4x3):\n",
            " [[10 20 30]\n",
            " [40 50 60]\n",
            " [70 80 90]\n",
            " [15 20 35]]\n"
          ]
        }
      ]
    }
  ]
}