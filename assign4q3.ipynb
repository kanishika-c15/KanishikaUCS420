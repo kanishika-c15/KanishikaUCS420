{
  "nbformat": 4,
  "nbformat_minor": 0,
  "metadata": {
    "colab": {
      "provenance": [],
      "authorship_tag": "ABX9TyO8OF3ZF8PYPC0JaFEFD6hI",
      "include_colab_link": true
    },
    "kernelspec": {
      "name": "python3",
      "display_name": "Python 3"
    },
    "language_info": {
      "name": "python"
    }
  },
  "cells": [
    {
      "cell_type": "markdown",
      "metadata": {
        "id": "view-in-github",
        "colab_type": "text"
      },
      "source": [
        "<a href=\"https://colab.research.google.com/github/kanishika-c15/KanishikaUCS420/blob/main/assign4q3.ipynb\" target=\"_parent\"><img src=\"https://colab.research.google.com/assets/colab-badge.svg\" alt=\"Open In Colab\"/></a>"
      ]
    },
    {
      "cell_type": "code",
      "execution_count": null,
      "metadata": {
        "id": "y4SzXfXEnnUt"
      },
      "outputs": [],
      "source": []
    },
    {
      "cell_type": "markdown",
      "source": [
        "Q1."
      ],
      "metadata": {
        "id": "1jj6gFJ-nsdV"
      }
    },
    {
      "cell_type": "code",
      "source": [
        "\n",
        "import numpy as np\n",
        "\n",
        "arr = np.array([10, 20, 30, 40, 50])\n",
        "\n",
        "add_result = arr + 2\n",
        "multiply_result = arr * 3\n",
        "divide_result = arr / 2\n",
        "\n",
        "print(\"Original Array:\", arr)\n",
        "print(\"After Adding 2:\", add_result)\n",
        "print(\"After Multiplying by 3:\", multiply_result)\n",
        "print(\"After Dividing by 2:\", divide_result)"
      ],
      "metadata": {
        "colab": {
          "base_uri": "https://localhost:8080/"
        },
        "id": "v_3-KXOUnvV3",
        "outputId": "b095389e-37d2-4f5c-8baa-eda144768e28"
      },
      "execution_count": 2,
      "outputs": [
        {
          "output_type": "stream",
          "name": "stdout",
          "text": [
            "Original Array: [10 20 30 40 50]\n",
            "After Adding 2: [12 22 32 42 52]\n",
            "After Multiplying by 3: [ 30  60  90 120 150]\n",
            "After Dividing by 2: [ 5. 10. 15. 20. 25.]\n"
          ]
        }
      ]
    },
    {
      "cell_type": "markdown",
      "source": [
        "Q2"
      ],
      "metadata": {
        "id": "QqmZ1WFX2Snz"
      }
    },
    {
      "cell_type": "code",
      "source": [
        "\n",
        "import numpy as np\n",
        "\n",
        "arr = np.array([1, 2, 3, 6, 4, 5])\n",
        "reversed_arr = arr[::-1]\n",
        "print(\"Reversed Array:\", reversed_arr)\n",
        "\n",
        "def most_frequent(arr):\n",
        "    unique, counts = np.unique(arr, return_counts=True)\n",
        "    max_count = np.max(counts)\n",
        "    most_frequent_value = unique[np.argmax(counts)]\n",
        "    indices = np.where(arr == most_frequent_value)[0]\n",
        "    return most_frequent_value, indices\n",
        "\n",
        "x = np.array([1, 2, 3, 4, 5, 1, 2, 1, 1, 1])\n",
        "y = np.array([1, 1, 1, 2, 3, 4, 2, 4, 3, 3])\n",
        "\n",
        "most_freq_x, indices_x = most_frequent(x)\n",
        "most_freq_y, indices_y = most_frequent(y)\n",
        "\n",
        "print(f\"Most Frequent in x: {most_freq_x}, Indices: {indices_x}\")\n",
        "print(f\"Most Frequent in y: {most_freq_y}, Indices: {indices_y}\")\n"
      ],
      "metadata": {
        "colab": {
          "base_uri": "https://localhost:8080/"
        },
        "id": "48xRvSoo2Ufb",
        "outputId": "9d1aeab8-d7aa-4726-e92a-9d3d7adec541"
      },
      "execution_count": 6,
      "outputs": [
        {
          "output_type": "stream",
          "name": "stdout",
          "text": [
            "Reversed Array: [5 4 6 3 2 1]\n",
            "Most Frequent in x: 1, Indices: [0 5 7 8 9]\n",
            "Most Frequent in y: 1, Indices: [0 1 2]\n"
          ]
        }
      ]
    },
    {
      "cell_type": "markdown",
      "source": [
        "q3"
      ],
      "metadata": {
        "id": "ArOetVrB47Y2"
      }
    },
    {
      "cell_type": "code",
      "source": [
        "import numpy as np\n",
        "\n",
        "arr = np.array([[10, 20, 30],\n",
        "                [40, 50, 60],\n",
        "                [70, 80, 90]])\n",
        "\n",
        "a = arr[0, 1]\n",
        "b = arr[2, 0]\n",
        "\n",
        "print(\"1st row, 2nd column:\", a)\n",
        "print(\"3rd row, 1st column:\", b)\n",
        "\n"
      ],
      "metadata": {
        "colab": {
          "base_uri": "https://localhost:8080/"
        },
        "id": "cPN8VjGs48lL",
        "outputId": "a92f4fc0-280e-42ff-8347-58016416cd22"
      },
      "execution_count": 7,
      "outputs": [
        {
          "output_type": "stream",
          "name": "stdout",
          "text": [
            "1st row, 2nd column: 20\n",
            "3rd row, 1st column: 70\n"
          ]
        }
      ]
    }
  ]
}