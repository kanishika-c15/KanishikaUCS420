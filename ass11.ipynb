{
  "nbformat": 4,
  "nbformat_minor": 0,
  "metadata": {
    "colab": {
      "provenance": [],
      "authorship_tag": "ABX9TyNPa6DiqiPxZL/mmwDnatBq",
      "include_colab_link": true
    },
    "kernelspec": {
      "name": "python3",
      "display_name": "Python 3"
    },
    "language_info": {
      "name": "python"
    }
  },
  "cells": [
    {
      "cell_type": "markdown",
      "metadata": {
        "id": "view-in-github",
        "colab_type": "text"
      },
      "source": [
        "<a href=\"https://colab.research.google.com/github/kanishika-c15/KanishikaUCS420/blob/main/ass11.ipynb\" target=\"_parent\"><img src=\"https://colab.research.google.com/assets/colab-badge.svg\" alt=\"Open In Colab\"/></a>"
      ]
    },
    {
      "cell_type": "code",
      "execution_count": null,
      "metadata": {
        "colab": {
          "base_uri": "https://localhost:8080/"
        },
        "id": "ZRANW-l_mQYc",
        "outputId": "ae8b934b-4a6e-4c46-f058-8bb6288c1d67"
      },
      "outputs": [
        {
          "output_type": "stream",
          "name": "stdout",
          "text": [
            "HealthBot: Hi! I am HealthBot. How can I assist you today?\n",
            "You: how to stay healthy?\n",
            "HealthBot: Eat balanced meals, exercise regularly, stay hydrated, and get enough sleep.\n",
            "You: \n",
            "HealthBot: I'm sorry, I can only help with basic health-related questions right now.\n"
          ]
        }
      ],
      "source": [
        "def health_bot():\n",
        "    responses = {\n",
        "        \"hi\": \"Hello! I am HealthBot. How can I assist you today?\",\n",
        "        \"hello\": \"Hi! Do you have a health-related question?\",\n",
        "        \"i have a headache\": \"You should rest, stay hydrated, and take a mild pain reliever if needed.\",\n",
        "        \"what should i do if i have a fever?\": \"Drink plenty of fluids and rest. If the fever persists, please consult a doctor.\",\n",
        "        \"i feel dizzy\": \"Sit down, breathe deeply, and drink water. If it continues, seek medical help.\",\n",
        "        \"what should i eat for a cold?\": \"Warm fluids, soups, citrus fruits, and light meals help during a cold.\",\n",
        "        \"how to stay healthy?\": \"Eat balanced meals, exercise regularly, stay hydrated, and get enough sleep.\",\n",
        "        \"what should i do in case of a cut?\": \"Clean the wound with water, apply antiseptic, and cover it with a clean bandage.\",\n",
        "        \"how much water should i drink daily?\": \"Generally, 2 to 3 liters per day is recommended, but it varies based on your activity.\",\n",
        "        \"thank you\": \"You’re welcome! Take care.\",\n",
        "        \"bye\": \"Goodbye! Stay healthy.\"\n",
        "    }\n",
        "\n",
        "    print(\"HealthBot: Hi! I am HealthBot. How can I assist you today?\")\n",
        "    while True:\n",
        "        user_input = input(\"You: \").lower().strip()\n",
        "        if user_input in responses:\n",
        "            print(\"HealthBot:\", responses[user_input])\n",
        "            if user_input == \"bye\":\n",
        "                break\n",
        "        else:\n",
        "            print(\"HealthBot: I'm sorry, I can only help with basic health-related questions right now.\")\n",
        "\n",
        "# Run the chatbot\n",
        "health_bot()\n"
      ]
    }
  ]
}